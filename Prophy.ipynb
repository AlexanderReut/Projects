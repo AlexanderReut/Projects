{
 "cells": [
  {
   "cell_type": "markdown",
   "id": "186ef9df",
   "metadata": {},
   "source": [
    "## Подключение к API интернет-магазина ebay.com(US), загрузка необходимых данных и первоначальный базовый анализ выгруженных данных"
   ]
  },
  {
   "cell_type": "code",
   "execution_count": null,
   "id": "61a3466d",
   "metadata": {},
   "outputs": [],
   "source": [
    "import pandas as pd\n",
    "import matplotlib.pyplot as plt\n",
    "from ebaysdk.finding import Connection as Finding"
   ]
  },
  {
   "cell_type": "markdown",
   "id": "4b84a2d6",
   "metadata": {},
   "source": [
    "### 1. Подключение к API интернет-магазина ebay.com(US)"
   ]
  },
  {
   "cell_type": "markdown",
   "id": "1f079c74",
   "metadata": {},
   "source": [
    "Создадим функцию запроса к API ebay и вывод в словаре dict"
   ]
  },
  {
   "cell_type": "code",
   "execution_count": 196,
   "id": "90c9390f",
   "metadata": {},
   "outputs": [],
   "source": [
    "def get_results(request):\n",
    "    api = Finding(appid='MyAppID', \n",
    "                  siteid=\"EBAY-US\",\n",
    "                  domain='svcs.sandbox.ebay.com')\n",
    "    response = api.execute('findItemsByKeywords', request)\n",
    "    return response.dict()    "
   ]
  },
  {
   "cell_type": "markdown",
   "id": "77181a08",
   "metadata": {},
   "source": [
    "### 2. Получение данных"
   ]
  },
  {
   "cell_type": "markdown",
   "id": "f860bd37",
   "metadata": {},
   "source": [
    "Подготовка запроса на примере ключевого слова phone"
   ]
  },
  {
   "cell_type": "code",
   "execution_count": 201,
   "id": "8502f23a",
   "metadata": {},
   "outputs": [],
   "source": [
    "request = {\n",
    "        'keywords': 'phone', \n",
    "        #'categoryId': '178893',\n",
    "            'paginationInput': {\n",
    "            'entriesPerPage': 100}\n",
    "        #'itemFilter': {},\n",
    "        #'sortOrder': 'StartTimeNewest'\n",
    "}"
   ]
  },
  {
   "cell_type": "code",
   "execution_count": 202,
   "id": "8b5a2ef3",
   "metadata": {},
   "outputs": [],
   "source": [
    "# Делаем запрос\n",
    "results = get_results(request)\n",
    "\n",
    "# Результат выводится на нескольких страницах\n",
    "total_pages = int(results.get('paginationOutput').get('totalPages')) # количество страниц\n",
    "\n",
    "# 'item' - вывод одной страницы. Соберем все страницы в переменной items_list\n",
    "items_list = results['searchResult']['item']\n",
    "i = 2 \n",
    "while(i <= total_pages):\n",
    "    request['paginationInput'] = {'entriesPerPage': 100, 'pageNumber': i}        \n",
    "    results = get_results(request)\n",
    "    items_list.extend(results['searchResult']['item'])\n",
    "    i += 1\n",
    "    \n",
    "# Переведем наш результат в pandas DataFrame\n",
    "df = pd.DataFrame(columns=['Номер продукта', 'Наименование', 'Категория', 'Цена'])\n",
    "\n",
    "for item in items_list:\n",
    "        row = {\n",
    "            'Номер продукта': item.get('itemId'),\n",
    "            'Наименование': item.get('title'),\n",
    "            'Категория' : item.get('primaryCategory').get('categoryName'),\n",
    "            'Цена': item.get('sellingStatus').get('currentPrice').get('value')\n",
    "        }\n",
    "        df_next = pd.DataFrame([row])\n",
    "        df = pd.concat([df, df_next],axis=0, ignore_index=True)          "
   ]
  },
  {
   "cell_type": "markdown",
   "id": "b912a57e",
   "metadata": {},
   "source": [
    "### 3. Первоначальный базовый анализ выгруженных данных"
   ]
  },
  {
   "cell_type": "markdown",
   "id": "6ac2b5e4",
   "metadata": {},
   "source": [
    "#### 3.1 Проведем начальный анализ полученных данных в датафрейме df"
   ]
  },
  {
   "cell_type": "code",
   "execution_count": 206,
   "id": "768c32b0",
   "metadata": {},
   "outputs": [
    {
     "data": {
      "text/html": [
       "<div>\n",
       "<style scoped>\n",
       "    .dataframe tbody tr th:only-of-type {\n",
       "        vertical-align: middle;\n",
       "    }\n",
       "\n",
       "    .dataframe tbody tr th {\n",
       "        vertical-align: top;\n",
       "    }\n",
       "\n",
       "    .dataframe thead th {\n",
       "        text-align: right;\n",
       "    }\n",
       "</style>\n",
       "<table border=\"1\" class=\"dataframe\">\n",
       "  <thead>\n",
       "    <tr style=\"text-align: right;\">\n",
       "      <th></th>\n",
       "      <th>Номер продукта</th>\n",
       "      <th>Наименование</th>\n",
       "      <th>Категория</th>\n",
       "      <th>Цена</th>\n",
       "    </tr>\n",
       "  </thead>\n",
       "  <tbody>\n",
       "    <tr>\n",
       "      <th>0</th>\n",
       "      <td>110552870414</td>\n",
       "      <td>Samsung, SM-J320A Galaxy J3 Unlocked White</td>\n",
       "      <td>Cell Phones &amp; Smartphones</td>\n",
       "      <td>69.0</td>\n",
       "    </tr>\n",
       "    <tr>\n",
       "      <th>1</th>\n",
       "      <td>110552870602</td>\n",
       "      <td>Samsung VZW-SCHI545KPP Galaxy S4 Verizon Prepa...</td>\n",
       "      <td>Cell Phones &amp; Smartphones</td>\n",
       "      <td>149.0</td>\n",
       "    </tr>\n",
       "    <tr>\n",
       "      <th>2</th>\n",
       "      <td>110552888490</td>\n",
       "      <td>SONY Alpha a5100 24.3MP Digital Camera - Black...</td>\n",
       "      <td>Cell Phones &amp; Smartphones</td>\n",
       "      <td>66.33</td>\n",
       "    </tr>\n",
       "    <tr>\n",
       "      <th>3</th>\n",
       "      <td>110552828847</td>\n",
       "      <td>Apple iPhone 7 - 32GB - Black (Unlocked) A1778...</td>\n",
       "      <td>Cell Phones &amp; Smartphones</td>\n",
       "      <td>69.99</td>\n",
       "    </tr>\n",
       "    <tr>\n",
       "      <th>4</th>\n",
       "      <td>110552871302</td>\n",
       "      <td>Galaxy S5ng G900T-S5 Galaxy S5 Smartphone</td>\n",
       "      <td>Cell Phones &amp; Smartphones</td>\n",
       "      <td>349.0</td>\n",
       "    </tr>\n",
       "  </tbody>\n",
       "</table>\n",
       "</div>"
      ],
      "text/plain": [
       "  Номер продукта                                       Наименование  \\\n",
       "0   110552870414         Samsung, SM-J320A Galaxy J3 Unlocked White   \n",
       "1   110552870602  Samsung VZW-SCHI545KPP Galaxy S4 Verizon Prepa...   \n",
       "2   110552888490  SONY Alpha a5100 24.3MP Digital Camera - Black...   \n",
       "3   110552828847  Apple iPhone 7 - 32GB - Black (Unlocked) A1778...   \n",
       "4   110552871302          Galaxy S5ng G900T-S5 Galaxy S5 Smartphone   \n",
       "\n",
       "                   Категория   Цена  \n",
       "0  Cell Phones & Smartphones   69.0  \n",
       "1  Cell Phones & Smartphones  149.0  \n",
       "2  Cell Phones & Smartphones  66.33  \n",
       "3  Cell Phones & Smartphones  69.99  \n",
       "4  Cell Phones & Smartphones  349.0  "
      ]
     },
     "execution_count": 206,
     "metadata": {},
     "output_type": "execute_result"
    }
   ],
   "source": [
    "df.head()"
   ]
  },
  {
   "cell_type": "code",
   "execution_count": 343,
   "id": "d1009184",
   "metadata": {},
   "outputs": [
    {
     "data": {
      "text/html": [
       "<div>\n",
       "<style scoped>\n",
       "    .dataframe tbody tr th:only-of-type {\n",
       "        vertical-align: middle;\n",
       "    }\n",
       "\n",
       "    .dataframe tbody tr th {\n",
       "        vertical-align: top;\n",
       "    }\n",
       "\n",
       "    .dataframe thead th {\n",
       "        text-align: right;\n",
       "    }\n",
       "</style>\n",
       "<table border=\"1\" class=\"dataframe\">\n",
       "  <thead>\n",
       "    <tr style=\"text-align: right;\">\n",
       "      <th></th>\n",
       "      <th>min</th>\n",
       "      <th>max</th>\n",
       "    </tr>\n",
       "    <tr>\n",
       "      <th>Категория</th>\n",
       "      <th></th>\n",
       "      <th></th>\n",
       "    </tr>\n",
       "  </thead>\n",
       "  <tbody>\n",
       "    <tr>\n",
       "      <th>Business Phone Sets &amp; Handsets</th>\n",
       "      <td>67.80</td>\n",
       "      <td>81.22</td>\n",
       "    </tr>\n",
       "    <tr>\n",
       "      <th>Cases, Covers &amp; Skins</th>\n",
       "      <td>60.00</td>\n",
       "      <td>60.00</td>\n",
       "    </tr>\n",
       "    <tr>\n",
       "      <th>Cell Phones &amp; Smartphones</th>\n",
       "      <td>6.99</td>\n",
       "      <td>700.00</td>\n",
       "    </tr>\n",
       "    <tr>\n",
       "      <th>Fountain</th>\n",
       "      <td>699.00</td>\n",
       "      <td>699.00</td>\n",
       "    </tr>\n",
       "    <tr>\n",
       "      <th>Mounts &amp; Holders</th>\n",
       "      <td>3.59</td>\n",
       "      <td>18.04</td>\n",
       "    </tr>\n",
       "    <tr>\n",
       "      <th>Other Men's Vintage Clothing</th>\n",
       "      <td>39.99</td>\n",
       "      <td>39.99</td>\n",
       "    </tr>\n",
       "    <tr>\n",
       "      <th>Other Motorcycle Maintenance, Stands &amp; Towing</th>\n",
       "      <td>57.63</td>\n",
       "      <td>57.63</td>\n",
       "    </tr>\n",
       "    <tr>\n",
       "      <th>Signal Boosters</th>\n",
       "      <td>32.76</td>\n",
       "      <td>32.76</td>\n",
       "    </tr>\n",
       "  </tbody>\n",
       "</table>\n",
       "</div>"
      ],
      "text/plain": [
       "                                                  min     max\n",
       "Категория                                                    \n",
       "Business Phone Sets & Handsets                  67.80   81.22\n",
       "Cases, Covers & Skins                           60.00   60.00\n",
       "Cell Phones & Smartphones                        6.99  700.00\n",
       "Fountain                                       699.00  699.00\n",
       "Mounts & Holders                                 3.59   18.04\n",
       "Other Men's Vintage Clothing                    39.99   39.99\n",
       "Other Motorcycle Maintenance, Stands & Towing   57.63   57.63\n",
       "Signal Boosters                                 32.76   32.76"
      ]
     },
     "metadata": {},
     "output_type": "display_data"
    }
   ],
   "source": [
    "# Изменим для столбца 'Цена' тип данных на float64 \n",
    "df['Цена'] = df['Цена'].astype('float64')\n",
    "# Найдем в каждой категории цены мин и макс. \n",
    "display(df.groupby('Категория')['Цена'].agg(['min', 'max']))"
   ]
  },
  {
   "cell_type": "markdown",
   "id": "dc9f2f09",
   "metadata": {},
   "source": [
    "**Вывод:** Выгружены данные делятся по 8 категориям товаров. Посчитаны минимальние и максимальные цены по каждой категории"
   ]
  },
  {
   "cell_type": "markdown",
   "id": "eaad36bf",
   "metadata": {},
   "source": [
    "#### 3.1 Найдем в каких категориях самые высокие средние цены"
   ]
  },
  {
   "cell_type": "code",
   "execution_count": 303,
   "id": "1da34da1",
   "metadata": {},
   "outputs": [
    {
     "data": {
      "image/png": "[encoded data removed]",
      "text/plain": [
       "<Figure size 1224x360 with 1 Axes>"
      ]
     },
     "metadata": {
      "needs_background": "light"
     },
     "output_type": "display_data"
    }
   ],
   "source": [
    "# Создадим сводную таблицу Средних цен товаров по категориям\n",
    "df_categories = df.groupby('Категория')['Цена'].agg(['mean']).sort_values(by='mean', ascending=False)\n",
    "# Изобразим графически полученные результаты\n",
    "plt.figure(figsize=(17,5))\n",
    "plt.title('Средние цены товаров по категориям')\n",
    "plt.xlabel('Категории')\n",
    "plt.ylabel('Цена, долларов')\n",
    "plt.bar(df_categories.index[:5],df_categories['mean'][:5])\n",
    "plt.show()"
   ]
  },
  {
   "cell_type": "markdown",
   "id": "41645237",
   "metadata": {},
   "source": [
    "**Вывод:** Самые высокие средние цены в категории 'Fountain', на уровне 700 долларов за товар. По остальным категориям средние цены не превышают 200 долларов."
   ]
  },
  {
   "cell_type": "markdown",
   "id": "07fd7ad4",
   "metadata": {},
   "source": [
    "#### 3.2 Определим по названию производителей мобильных телефонов, выявим ценовые сегменты самых популярных брендов имеющихся в продаже на данный момент"
   ]
  },
  {
   "cell_type": "code",
   "execution_count": 340,
   "id": "224346ca",
   "metadata": {},
   "outputs": [
    {
     "data": {
      "text/html": [
       "<div>\n",
       "<style scoped>\n",
       "    .dataframe tbody tr th:only-of-type {\n",
       "        vertical-align: middle;\n",
       "    }\n",
       "\n",
       "    .dataframe tbody tr th {\n",
       "        vertical-align: top;\n",
       "    }\n",
       "\n",
       "    .dataframe thead th {\n",
       "        text-align: right;\n",
       "    }\n",
       "</style>\n",
       "<table border=\"1\" class=\"dataframe\">\n",
       "  <thead>\n",
       "    <tr style=\"text-align: right;\">\n",
       "      <th></th>\n",
       "      <th>Наименование</th>\n",
       "      <th>Цена</th>\n",
       "      <th>Производитель</th>\n",
       "    </tr>\n",
       "  </thead>\n",
       "  <tbody>\n",
       "    <tr>\n",
       "      <th>0</th>\n",
       "      <td>LG Optimus Phone FreedomPOP LG-LS720VSLRB F3 L...</td>\n",
       "      <td>60.00</td>\n",
       "      <td>LG</td>\n",
       "    </tr>\n",
       "    <tr>\n",
       "      <th>1</th>\n",
       "      <td>SONY Alpha a5100 24.3MP Digital Camera - Black...</td>\n",
       "      <td>66.33</td>\n",
       "      <td>SONY</td>\n",
       "    </tr>\n",
       "    <tr>\n",
       "      <th>2</th>\n",
       "      <td>Samsung, SM-J320A Galaxy J3 Unlocked White</td>\n",
       "      <td>69.00</td>\n",
       "      <td>Samsung</td>\n",
       "    </tr>\n",
       "    <tr>\n",
       "      <th>3</th>\n",
       "      <td>Apple iPhone 7 - 32GB - Black (Unlocked) A1778...</td>\n",
       "      <td>69.99</td>\n",
       "      <td>Apple</td>\n",
       "    </tr>\n",
       "    <tr>\n",
       "      <th>4</th>\n",
       "      <td>Apple iPhones N</td>\n",
       "      <td>100.00</td>\n",
       "      <td>Apple</td>\n",
       "    </tr>\n",
       "    <tr>\n",
       "      <th>5</th>\n",
       "      <td>LG G7 ThinQ G710VMP 64GB 4GB RAM 6.1‘’ Unlocke...</td>\n",
       "      <td>142.00</td>\n",
       "      <td>LG</td>\n",
       "    </tr>\n",
       "    <tr>\n",
       "      <th>6</th>\n",
       "      <td>Samsung VZW-SCHI545KPP Galaxy S4 Verizon Prepa...</td>\n",
       "      <td>149.00</td>\n",
       "      <td>Samsung</td>\n",
       "    </tr>\n",
       "    <tr>\n",
       "      <th>7</th>\n",
       "      <td>Samsung SCH-I605 Galaxy Note II 16GB Titanium ...</td>\n",
       "      <td>700.00</td>\n",
       "      <td>Samsung</td>\n",
       "    </tr>\n",
       "  </tbody>\n",
       "</table>\n",
       "</div>"
      ],
      "text/plain": [
       "                                        Наименование    Цена Производитель\n",
       "0  LG Optimus Phone FreedomPOP LG-LS720VSLRB F3 L...   60.00            LG\n",
       "1  SONY Alpha a5100 24.3MP Digital Camera - Black...   66.33          SONY\n",
       "2         Samsung, SM-J320A Galaxy J3 Unlocked White   69.00       Samsung\n",
       "3  Apple iPhone 7 - 32GB - Black (Unlocked) A1778...   69.99         Apple\n",
       "4                                    Apple iPhones N  100.00         Apple\n",
       "5  LG G7 ThinQ G710VMP 64GB 4GB RAM 6.1‘’ Unlocke...  142.00            LG\n",
       "6  Samsung VZW-SCHI545KPP Galaxy S4 Verizon Prepa...  149.00       Samsung\n",
       "7  Samsung SCH-I605 Galaxy Note II 16GB Titanium ...  700.00       Samsung"
      ]
     },
     "metadata": {},
     "output_type": "display_data"
    },
    {
     "data": {
      "image/png": "[encoded data removed]",
      "text/plain": [
       "<Figure size 1224x360 with 1 Axes>"
      ]
     },
     "metadata": {},
     "output_type": "display_data"
    }
   ],
   "source": [
    "# Выведем модели мобильный телефонов известных брендов\n",
    "df_mobile_phones = df[(df['Категория']=='Cell Phones & Smartphones') & # выбираем категорию Мобильники\n",
    "   (df['Наименование'].str.contains('Apple|Samsung|LG|SONY',  regex=True))][ # Выбираем известные марки\n",
    "    ['Наименование', 'Цена']].drop_duplicates( # убираем дупликаты \n",
    "   ).sort_values(by='Цена').reset_index(drop=True) # сбрасываем индексы и сортируем по цене\n",
    "\n",
    "# Добавим столбец с производителем, наименование которого возьмем как первое слово из наименования товара\n",
    "df_mobile_phones['Производитель'] = df_mobile_phones['Наименование'].apply(lambda x: x.replace(',', ' ').split()[0])\n",
    "display(df_mobile_phones)\n",
    "\n",
    "# Изобразим графически полученные результаты\n",
    "plt.figure(figsize=(17,5))\n",
    "plt.title('Средние цены мобильных телефонов по производителям')\n",
    "plt.xlabel('Категории')\n",
    "plt.ylabel('Средняя цена в продаже, долларов')\n",
    "plt.pie(df_mobile_phones.groupby('Производитель').mean()['Цена'],\n",
    "        labels=df_mobile_phones.groupby('Производитель').mean().index)\n",
    "plt.show()"
   ]
  },
  {
   "cell_type": "markdown",
   "id": "0dc68c0e",
   "metadata": {},
   "source": [
    "**Вывод:** согласно полученным данным имеются мобильные телефоны брендов LG, Samsung, Apple и Sony в ценовой категории 60-700 долларов. В премиум-сегменте представлен телефон Samsums Galaxy Note II, остальные телефоны с средней или бюджетной ценовой категории."
   ]
  },
  {
   "cell_type": "markdown",
   "id": "94b9103c",
   "metadata": {},
   "source": [
    "**Общий вывод**: <br>\n",
    "1) Проведено подключение к API интернет-магазина ebay.com(US), <br>\n",
    "<br>\n",
    "2) Загружены данные по наличию телефонов в продаже согласно запроса, <br>\n",
    "<br>\n",
    "3) Первоначальный базовый анализ выгруженных данных показал:<br>\n",
    " - Выгружены данные делятся по 8 категориям товаров. \n",
    " - Посчитаны минимальние, максимальные и средние цены по каждой категории.\n",
    " - Самые высокие средние цены в категории 'Fountain', на уровне 700 долларов за товар. По остальным категориям средние цены не превышают 200 долларов. Эти данные представлены графически.\n",
    " - Основными брендами мобильных телефонов являются: LG, Samsung, Apple и Sony в ценовых категориях 60-700 долларов. В премиум-сегменте представлен телефон Samsums Galaxy Note II, остальные телефоны в средней или бюджетной ценовой категории."
   ]
  }
 ],
 "metadata": {
  "kernelspec": {
   "display_name": "Python 3 (ipykernel)",
   "language": "python",
   "name": "python3"
  },
  "language_info": {
   "codemirror_mode": {
    "name": "ipython",
    "version": 3
   },
   "file_extension": ".py",
   "mimetype": "text/x-python",
   "name": "python",
   "nbconvert_exporter": "python",
   "pygments_lexer": "ipython3",
   "version": "3.9.12"
  }
 },
 "nbformat": 4,
 "nbformat_minor": 5
}
